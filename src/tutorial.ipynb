{
 "cells": [
  {
   "cell_type": "code",
   "execution_count": null,
   "id": "f4e87f85-d417-4cba-92f6-c87d34181459",
   "metadata": {},
   "outputs": [],
   "source": [
    "import os"
   ]
  },
  {
   "cell_type": "markdown",
   "id": "37f41ddc-cff8-4350-8412-2858b52192fb",
   "metadata": {},
   "source": [
    "## Training\n",
    "Following script will train the multi-headed MM-TOAD model which was used as a final model in the paper."
   ]
  },
  {
   "cell_type": "code",
   "execution_count": null,
   "id": "83b6e025-825a-41d4-a185-fc6aa822292f",
   "metadata": {},
   "outputs": [],
   "source": [
    "# input parameters\n",
    "exp_name = 'exp_01'\n",
    "classification_type = 'MH'  # for simultanous training of genomic, histology, and multimodal classifiers using multi-headed network\n",
    "exec_mode = 'train'\n",
    "site_name = 'None'\n",
    "\n",
    "command = \"python train_valid_test.py --classification_type='%s' --exec_mode='%s' --site_name='%s' --exp_name='%s'\" % (classification_type, exec_mode, site_name, exp_name)\n",
    "os.system(command)\n",
    "print('The model training has been completed and the best checkpoint has been save in ../results/%s/ directory.' % exp_name)"
   ]
  },
  {
   "cell_type": "markdown",
   "id": "6b3d21df-1929-4da6-9523-87bfdd3cb745",
   "metadata": {},
   "source": [
    "## Prediction\n",
    "Following scripts will predict the primary site of cancer origin for publicly available cases in the heldout test using multimodal, histology, and genomic classifiers trained using multi-headed network in previous step."
   ]
  },
  {
   "cell_type": "code",
   "execution_count": null,
   "id": "f201ebee-702d-4f52-8313-b7988c6e763f",
   "metadata": {},
   "outputs": [],
   "source": [
    "exp_name = 'exp_01'\n",
    "exec_mode = 'eval'\n",
    "split_name = 'test'\n",
    "\n",
    "classification_type = 'MM'  # multimodal classifier\n",
    "command = \"python train_valid_test.py --classification_type='%s' --exec_mode='%s' --exp_name='%s' --split_name='%s'\" % (classification_type, exec_mode, exp_name, split_name)\n",
    "os.system(command)\n",
    "print('The multimodal classifier predictions on heldout test set have been saved in ../results/%s/Multimodal/ directory.' % (exp_name))\n",
    "\n",
    "classification_type = 'HM'  # histology only classifier\n",
    "command = \"python train_valid_test.py --classification_type='%s' --exec_mode='%s' --exp_name='%s' --split_name='%s'\" % (classification_type, exec_mode, exp_name, split_name)\n",
    "os.system(command)\n",
    "print('The histology classifier predictions on heldout test set have been saved in ../results/%s/Histology/ directory.' % (exp_name))\n",
    "\n",
    "classification_type = 'GM'  # genomic classifier\n",
    "command = \"python train_valid_test.py --classification_type='%s' --exec_mode='%s' --exp_name='%s' --split_name='%s'\" % (classification_type, exec_mode, exp_name, split_name)\n",
    "os.system(command)\n",
    "print('The genomic classifier predictions on heldout test set have been saved in ../results/%s/Genomic/ directory.' % (exp_name))"
   ]
  }
 ],
 "metadata": {
  "kernelspec": {
   "display_name": "Python 3 (ipykernel)",
   "language": "python",
   "name": "python3"
  },
  "language_info": {
   "codemirror_mode": {
    "name": "ipython",
    "version": 3
   },
   "file_extension": ".py",
   "mimetype": "text/x-python",
   "name": "python",
   "nbconvert_exporter": "python",
   "pygments_lexer": "ipython3",
   "version": "3.9.12"
  }
 },
 "nbformat": 4,
 "nbformat_minor": 5
}
